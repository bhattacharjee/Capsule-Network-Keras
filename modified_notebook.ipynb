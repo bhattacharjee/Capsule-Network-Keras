{
  "nbformat": 4,
  "nbformat_minor": 0,
  "metadata": {
    "colab": {
      "name": "Untitled",
      "provenance": [],
      "collapsed_sections": [],
      "machine_shape": "hm",
      "authorship_tag": "ABX9TyNCLCimHnzgzbhi5Y8AlezN",
      "include_colab_link": true
    },
    "kernelspec": {
      "name": "python3",
      "display_name": "Python 3"
    },
    "language_info": {
      "name": "python"
    },
    "accelerator": "GPU"
  },
  "cells": [
    {
      "cell_type": "markdown",
      "metadata": {
        "id": "view-in-github",
        "colab_type": "text"
      },
      "source": [
        "<a href=\"https://colab.research.google.com/github/bhattacharjee/Capsule-Network-Keras/blob/master/modified_notebook.ipynb\" target=\"_parent\"><img src=\"https://colab.research.google.com/assets/colab-badge.svg\" alt=\"Open In Colab\"/></a>"
      ]
    },
    {
      "cell_type": "code",
      "metadata": {
        "colab": {
          "base_uri": "https://localhost:8080/"
        },
        "id": "4hT0Y1b81IAC",
        "outputId": "7c502e60-d91d-47b5-9fea-ed606bbd04f7"
      },
      "source": [
        "!rm -rf *\n",
        "!git clone https://github.com/TheLastFrame/Capsule-Network-Keras.git\n",
        "!cp -r Capsule-Network-Keras/* .\n"
      ],
      "execution_count": 8,
      "outputs": [
        {
          "output_type": "stream",
          "text": [
            "Cloning into 'Capsule-Network-Keras'...\n",
            "remote: Enumerating objects: 133, done.\u001b[K\n",
            "remote: Counting objects: 100% (88/88), done.\u001b[K\n",
            "remote: Compressing objects: 100% (74/74), done.\u001b[K\n",
            "remote: Total 133 (delta 46), reused 34 (delta 12), pack-reused 45\u001b[K\n",
            "Receiving objects: 100% (133/133), 36.79 KiB | 1.11 MiB/s, done.\n",
            "Resolving deltas: 100% (63/63), done.\n"
          ],
          "name": "stdout"
        }
      ]
    },
    {
      "cell_type": "code",
      "metadata": {
        "id": "gA2KbBxH1YLy"
      },
      "source": [
        "from keras.datasets import mnist\n",
        "import tensorflow as tf\n",
        "import numpy as np\n",
        "import matplotlib.pyplot as plt\n"
      ],
      "execution_count": 9,
      "outputs": []
    },
    {
      "cell_type": "code",
      "metadata": {
        "id": "f1vR6fV2C2Fa"
      },
      "source": [
        "(train_X, train_y), (test_X, test_y) = mnist.load_data()"
      ],
      "execution_count": 10,
      "outputs": []
    },
    {
      "cell_type": "code",
      "metadata": {
        "id": "Rwoe9-U2C6QM"
      },
      "source": [
        "from capsulelayer import Capsule\n",
        "class CapsuleModel:\n",
        "    @staticmethod\n",
        "    def build(train_X, train_y, test_X, test_y):\n",
        "        classes = np.unique(train_y).shape[0]\n",
        "        routing=5\n",
        "        capsule_dim=16\n",
        "        input_image = tf.keras.Input(shape=train_X[0].shape)\n",
        "        capsule = Capsule(classes, capsule_dim, routing, True)(input_image) #num capsule (classes), dim capsule, routings\n",
        "        output = tf.keras.layers.Lambda(lambda x: tf.math.sqrt(tf.reduce_sum(tf.math.square(x), 2)), output_shape=(classes,))(capsule)\n",
        "\n",
        "        model = tf.keras.Model(inputs=input_image, outputs=output)\n",
        "        model.compile(loss=tf.losses.categorical_crossentropy,\n",
        "                    optimizer='adam',\n",
        "                    metrics=['accuracy'])\n",
        "        return model\n"
      ],
      "execution_count": 13,
      "outputs": []
    },
    {
      "cell_type": "code",
      "metadata": {
        "colab": {
          "base_uri": "https://localhost:8080/"
        },
        "id": "qSGs_RaxDQPl",
        "outputId": "57c8dd58-85bd-4949-b36b-574a02ba6284"
      },
      "source": [
        "print(np.unique(train_y))\n",
        "m = CapsuleModel.build(train_X, train_y, test_X, test_y)\n",
        "print(tf.one_hot(train_y, depth=10).numpy().shape, train_X.shape)\n",
        "m.fit(x=train_X, y=tf.one_hot(train_y, depth=10), epochs=2)\n",
        "print(m)"
      ],
      "execution_count": 15,
      "outputs": [
        {
          "output_type": "stream",
          "text": [
            "[0 1 2 3 4 5 6 7 8 9]\n",
            "(60000, 10) (60000, 28, 28)\n",
            "Epoch 1/2\n",
            "1875/1875 [==============================] - 8s 4ms/step - loss: nan - accuracy: 0.0987\n",
            "Epoch 2/2\n",
            "1875/1875 [==============================] - 7s 4ms/step - loss: nan - accuracy: 0.0987\n",
            "<tensorflow.python.keras.engine.functional.Functional object at 0x7f2024a19ed0>\n"
          ],
          "name": "stdout"
        }
      ]
    },
    {
      "cell_type": "code",
      "metadata": {
        "colab": {
          "base_uri": "https://localhost:8080/"
        },
        "id": "VnZBmgW4DVl4",
        "outputId": "9d826a16-c4c3-460e-c40e-3ab18ad3a2b6"
      },
      "source": [
        "tf.keras.models.save_model(m, 'save.h5')\n",
        "m.save(\"./save.tf\", save_format='tf')"
      ],
      "execution_count": 19,
      "outputs": [
        {
          "output_type": "stream",
          "text": [
            "INFO:tensorflow:Assets written to: ./save.tf/assets\n"
          ],
          "name": "stdout"
        }
      ]
    },
    {
      "cell_type": "code",
      "metadata": {
        "colab": {
          "base_uri": "https://localhost:8080/"
        },
        "id": "_1tSmldgIO6W",
        "outputId": "a4f51bbc-ae80-47a2-9a4f-6e6064677a19"
      },
      "source": [
        "!ls save.tf\n"
      ],
      "execution_count": 21,
      "outputs": [
        {
          "output_type": "stream",
          "text": [
            "assets\tkeras_metadata.pb  saved_model.pb  variables\n"
          ],
          "name": "stdout"
        }
      ]
    },
    {
      "cell_type": "code",
      "metadata": {
        "id": "kMuW7Y3pKhht"
      },
      "source": [
        "run_model = tf.function(lambda x : m(x))\n",
        "concrete_func = run_model.get_concrete_function(\n",
        "    tf.TensorSpec(m.inputs[0].shape, m.inputs[0].dtype)\n",
        ")\n"
      ],
      "execution_count": 24,
      "outputs": []
    },
    {
      "cell_type": "code",
      "metadata": {
        "id": "3rw3f0xSKv-r",
        "outputId": "7b1a8a6f-6b61-4ed1-c905-afd70f9da3b3",
        "colab": {
          "base_uri": "https://localhost:8080/"
        }
      },
      "source": [
        "converter = tf.lite.TFLiteConverter.from_concrete_functions([concrete_func])\n",
        "converter.optimizations = [tf.lite.Optimize.OPTIMIZE_FOR_SIZE]\n",
        "tflite_model = converter.convert()\n",
        "\n",
        "with open(\"./lite\" + \"_conc_func\"+ '.tflite', 'wb') as f:\n",
        "    f.write(tflite_model)\n",
        "\n",
        "converter = tf.lite.TFLiteConverter.from_keras_model(m)\n",
        "converter.optimizations = [tf.lite.Optimize.OPTIMIZE_FOR_SIZE]\n",
        "tflite_model = converter.convert()\n",
        "\n",
        "with open(\"./lit2\" + '.tflite', 'wb') as f:\n",
        "    f.write(tflite_model)"
      ],
      "execution_count": 27,
      "outputs": [
        {
          "output_type": "stream",
          "text": [
            "INFO:tensorflow:Assets written to: /tmp/tmpraz4ttrj/assets\n"
          ],
          "name": "stdout"
        },
        {
          "output_type": "stream",
          "text": [
            "INFO:tensorflow:Assets written to: /tmp/tmpraz4ttrj/assets\n"
          ],
          "name": "stderr"
        }
      ]
    },
    {
      "cell_type": "code",
      "metadata": {
        "id": "VcFCGsPXLGw9"
      },
      "source": [
        ""
      ],
      "execution_count": null,
      "outputs": []
    }
  ]
}